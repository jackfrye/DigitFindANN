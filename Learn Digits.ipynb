{
 "cells": [
  {
   "cell_type": "code",
   "execution_count": 7,
   "metadata": {},
   "outputs": [],
   "source": [
    "import numpy as np\n",
    "from PIL import Image\n",
    "import struct\n",
    "import matplotlib.pyplot as plt\n",
    "import math"
   ]
  },
  {
   "cell_type": "code",
   "execution_count": 19,
   "metadata": {},
   "outputs": [],
   "source": [
    "def read_images():\n",
    "    images = []\n",
    "    image = None    \n",
    "    with open(\"train-images-idx3-ubyte\", \"rb\") as f:\n",
    "        # Endianness dependency\n",
    "        magic_number = int(struct.unpack('i', f.read(4)[::-1])[0])\n",
    "        number_items = int(struct.unpack('i', f.read(4)[::-1])[0])\n",
    "        rows = int(struct.unpack('i', f.read(4)[::-1])[0])\n",
    "        cols = int(struct.unpack('i', f.read(4)[::-1])[0])\n",
    "\n",
    "        for k in range(0, number_items):\n",
    "            image = np.zeros([rows, cols])\n",
    "            for i in range(0, cols):\n",
    "                for j in range(0, rows):\n",
    "                    byte = f.read(1)\n",
    "                    pixel = int(struct.unpack('B', byte)[0])\n",
    "                    image[i][j] = pixel\n",
    "    \n",
    "            images.append(image)\n",
    "        \n",
    "    return images"
   ]
  },
  {
   "cell_type": "code",
   "execution_count": 20,
   "metadata": {},
   "outputs": [],
   "source": [
    "def read_labels():\n",
    "    \n",
    "    with open(\"train-labels-idx1-ubyte\", \"rb\") as f:\n",
    "        # Endianness dependency\n",
    "        magic_number = struct.unpack('i', f.read(4)[::-1])\n",
    "        number_items = int(struct.unpack('i', f.read(4)[::-1])[0])\n",
    "         \n",
    "        labels = []\n",
    "\n",
    "        for i in range(0, number_items):\n",
    "            label = np.zeros(10)\n",
    "            byte = f.read(1)\n",
    "            label_val = int(struct.unpack('b', byte)[0])\n",
    "            for i in range(0, 10):\n",
    "                label[i] = int(i == label_val)\n",
    "\n",
    "            labels.append(label)\n",
    "        \n",
    "\n",
    "    return labels"
   ]
  },
  {
   "cell_type": "code",
   "execution_count": 22,
   "metadata": {},
   "outputs": [
    {
     "name": "stdout",
     "output_type": "stream",
     "text": [
      "[1. 0. 0. 0. 0. 0. 0. 0. 0. 0.]\n"
     ]
    },
    {
     "data": {
      "image/png": "[encoded data removed]",
      "text/plain": [
       "<Figure size 432x288 with 1 Axes>"
      ]
     },
     "metadata": {},
     "output_type": "display_data"
    }
   ],
   "source": [
    "images = read_images()\n",
    "labels = read_labels()\n",
    "image = images[1000]\n",
    "plt.imshow(image, cmap=\"Greys\")\n",
    "print(labels[1000])"
   ]
  },
  {
   "cell_type": "code",
   "execution_count": 30,
   "metadata": {},
   "outputs": [
    {
     "name": "stdout",
     "output_type": "stream",
     "text": [
      "[0. 0. 0. 0. 0. 1. 0. 0. 0. 0.]\n",
      "784\n"
     ]
    },
    {
     "data": {
      "image/png": "[encoded data removed]",
      "text/plain": [
       "<Figure size 432x288 with 1 Axes>"
      ]
     },
     "metadata": {},
     "output_type": "display_data"
    }
   ],
   "source": [
    "image_e = images[2000]\n",
    "plt.imshow(image_e, cmap=\"Greys\")\n",
    "print(labels[2000])\n",
    "print(image_e.size)"
   ]
  },
  {
   "cell_type": "code",
   "execution_count": 26,
   "metadata": {},
   "outputs": [],
   "source": [
    "def activation(x):\n",
    "    math.sigmoid( x )"
   ]
  },
  {
   "cell_type": "code",
   "execution_count": 36,
   "metadata": {},
   "outputs": [],
   "source": [
    "def derivative_activation(x):\n",
    "    return ( activation(x) * (1 - activation(x)) )"
   ]
  },
  {
   "cell_type": "code",
   "execution_count": 29,
   "metadata": {},
   "outputs": [],
   "source": [
    "def norm_pixel(pixel):\n",
    "    return ( (pixel - 127) / 255 )"
   ]
  },
  {
   "cell_type": "code",
   "execution_count": null,
   "metadata": {},
   "outputs": [],
   "source": [
    "input_weights = ( np.random.rand( (image_e.size, image_e.size) ) - 0.5 ) * 2\n",
    "hidden_weights = ( np.random.rand( (397, image_e.size) ) - 0.5 ) * 2\n",
    "output_weights = ( np.random.rand( (10, 397) ) - 0.5 ) * 2\n",
    "\n",
    "input_sums = np.zeros( (image_e.size, 1) )\n",
    "hidden_sums = np.zeros( (397, 1) )\n",
    "output_sums = np.zeros( (10, 1) )\n",
    "\n",
    "activations_input = np.zeros( (image_e.size, 1) )\n",
    "activations_hidden = np.zeros( (397, 1) )\n",
    "activations_output = np.zeros( (10, 1) )\n",
    "\n",
    "derivs_input = np.zeross( (image_e.size, image_e.size) )\n",
    "derivs_hidden = np.zeros( (397, image_e.size) )\n",
    "derivs_output = np.zeros( (10, 397) )\n",
    "\n",
    "iterations = 1\n",
    "learning_rate = 0.1\n",
    "\n",
    "############################### TRAINING ###########################\n",
    "for l in range(0, len(images) ):\n",
    "    ################## FORWARD PASS ##################\n",
    "    ### input layer ###\n",
    "    for i in range(0, image_e.size):\n",
    "        for j in range(0, image_e.size):\n",
    "            input_sums[i] += norm_pixel( images[l].flatten()[j]) * input_weights[i][j]\n",
    "        activations_input[i] = activation( input_sums[i] )\n",
    "    #####################\n",
    "    \n",
    "    ### hidden layer ###\n",
    "    for i in range(0, 397):\n",
    "        for j in range(0, image_e.size):\n",
    "            hidden_sums[i] =  activations_input[j] * hidden_weights[i][j]\n",
    "        activations_hidden[i] = activation( hidden_sums[i] )\n",
    "    #####################\n",
    "    \n",
    "    ### output layer ###\n",
    "    for i in range(0, 10):\n",
    "        for j in range(0, 397):\n",
    "            output_sums[i] = activations_hidden[j] * output_weights[i][j]\n",
    "        activations_output[i] = activation( output_sums[i] )\n",
    "    ####################\n",
    "    #################################################\n",
    "    \n",
    "    ################# BACK PROPAGATION ###############\n",
    "    ### output layer ###\n",
    "    #derivative \n",
    "    # dC/dz = d - z -- d is actual output\n",
    "    # dz/dP = sigmoid(P) * (1 - sigmoid(P))\n",
    "    # dP/dw_i = a[i]\n",
    "    for i in range(0, 10):\n",
    "        for j in range(0, 397):\n",
    "            deriv = (labels[l][i] - activation_output[i]) * derivative_activation(output_sums[i]) * activations_hidden[j]\n",
    "            derivs_output[i][j] += learning_rate * deriv\n",
    "    #####################\n",
    "    \n",
    "    ### hidden layer ###\n",
    "    #derivative \n",
    "    # dC/dz = d - z -- d is actual output\n",
    "    # dz/dP = sigmoid(P) * (1 - sigmoid(P))\n",
    "    # dP/dw_i = a[i]\n",
    "    for i in range(0, 397):\n",
    "        for j in range(0, image_e.size):\n",
    "            deriv = derivative_activation(hidden_sums[i]) * activations_input[j]\n",
    "            derivs_hidden[j][i] += learning_rate * deriv\n",
    "    #####################\n",
    "    \n",
    "    ### input layer ###\n",
    "    #derivative \n",
    "    # dC/dz = d - z -- d is actual output\n",
    "    # dz/dP = sigmoid(P) * (1 - sigmoid(P))\n",
    "    # dP/dw_i = a[i]\n",
    "    for i in range(0, image_e.size):\n",
    "        for j in range(0, image_e.size):\n",
    "            deriv = derivative_activation(input_sums[i]) * images[l].flatten()[j] \n",
    "            derivs_input[j][i] += learning_rate * deriv\n",
    "    #####################\n",
    "    \n",
    "    ##################################################"
   ]
  },
  {
   "cell_type": "code",
   "execution_count": 38,
   "metadata": {},
   "outputs": [
    {
     "name": "stdout",
     "output_type": "stream",
     "text": [
      "3\n",
      "0\n",
      "1\n",
      "2\n",
      "3\n",
      "4\n",
      "5\n"
     ]
    },
    {
     "ename": "IndexError",
     "evalue": "index 6 is out of bounds for axis 0 with size 6",
     "output_type": "error",
     "traceback": [
      "\u001b[0;31m---------------------------------------------------------------------------\u001b[0m",
      "\u001b[0;31mIndexError\u001b[0m                                Traceback (most recent call last)",
      "\u001b[0;32m<ipython-input-38-67646566f7f8>\u001b[0m in \u001b[0;36m<module>\u001b[0;34m()\u001b[0m\n\u001b[1;32m      3\u001b[0m \u001b[0;34m\u001b[0m\u001b[0m\n\u001b[1;32m      4\u001b[0m \u001b[0;32mfor\u001b[0m \u001b[0mi\u001b[0m \u001b[0;32min\u001b[0m \u001b[0mrange\u001b[0m\u001b[0;34m(\u001b[0m\u001b[0;36m0\u001b[0m\u001b[0;34m,\u001b[0m\u001b[0;36m7\u001b[0m\u001b[0;34m)\u001b[0m\u001b[0;34m:\u001b[0m\u001b[0;34m\u001b[0m\u001b[0m\n\u001b[0;32m----> 5\u001b[0;31m     \u001b[0mprint\u001b[0m\u001b[0;34m(\u001b[0m\u001b[0ma\u001b[0m\u001b[0;34m.\u001b[0m\u001b[0mflatten\u001b[0m\u001b[0;34m(\u001b[0m\u001b[0;34m)\u001b[0m\u001b[0;34m[\u001b[0m\u001b[0mi\u001b[0m\u001b[0;34m]\u001b[0m\u001b[0;34m)\u001b[0m\u001b[0;34m\u001b[0m\u001b[0m\n\u001b[0m",
      "\u001b[0;31mIndexError\u001b[0m: index 6 is out of bounds for axis 0 with size 6"
     ]
    }
   ],
   "source": [
    "a = np.arange(6).reshape(2,3)\n",
    "print(np.sum(a[0]))\n",
    "\n",
    "for i in range(0,7):\n",
    "    print(a.flatten()[i])"
   ]
  },
  {
   "cell_type": "code",
   "execution_count": null,
   "metadata": {},
   "outputs": [],
   "source": []
  }
 ],
 "metadata": {
  "kernelspec": {
   "display_name": "Python 3",
   "language": "python",
   "name": "python3"
  },
  "language_info": {
   "codemirror_mode": {
    "name": "ipython",
    "version": 3
   },
   "file_extension": ".py",
   "mimetype": "text/x-python",
   "name": "python",
   "nbconvert_exporter": "python",
   "pygments_lexer": "ipython3",
   "version": "3.6.5"
  }
 },
 "nbformat": 4,
 "nbformat_minor": 2
}
