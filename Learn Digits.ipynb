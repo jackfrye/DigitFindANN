{
 "cells": [
  {
   "cell_type": "code",
   "execution_count": 1,
   "metadata": {},
   "outputs": [],
   "source": [
    "import numpy as np\n",
    "from PIL import Image\n",
    "import struct\n",
    "import matplotlib.pyplot as plt\n",
    "import math"
   ]
  },
  {
   "cell_type": "code",
   "execution_count": 2,
   "metadata": {},
   "outputs": [],
   "source": [
    "def read_images(f):\n",
    "    images = []\n",
    "    image = None    \n",
    "    with open(f, \"rb\") as f:\n",
    "        # Endianness dependency\n",
    "        magic_number = int(struct.unpack('i', f.read(4)[::-1])[0])\n",
    "        number_items = int(struct.unpack('i', f.read(4)[::-1])[0])\n",
    "        rows = int(struct.unpack('i', f.read(4)[::-1])[0])\n",
    "        cols = int(struct.unpack('i', f.read(4)[::-1])[0])\n",
    "\n",
    "        for k in range(0, number_items):\n",
    "            image = np.zeros([rows, cols])\n",
    "            for i in range(0, cols):\n",
    "                for j in range(0, rows):\n",
    "                    byte = f.read(1)\n",
    "                    pixel = int(struct.unpack('B', byte)[0])\n",
    "                    image[i][j] = pixel\n",
    "    \n",
    "            images.append(image)\n",
    "        \n",
    "    return images"
   ]
  },
  {
   "cell_type": "code",
   "execution_count": 3,
   "metadata": {},
   "outputs": [],
   "source": [
    "def read_labels(f):\n",
    "    \n",
    "    with open(f, \"rb\") as f:\n",
    "        # Endianness dependency\n",
    "        magic_number = struct.unpack('i', f.read(4)[::-1])\n",
    "        number_items = int(struct.unpack('i', f.read(4)[::-1])[0])\n",
    "         \n",
    "        labels = []\n",
    "\n",
    "        for i in range(0, number_items):\n",
    "            label = np.zeros(10)\n",
    "            byte = f.read(1)\n",
    "            label_val = int(struct.unpack('b', byte)[0])\n",
    "            for i in range(0, 10):\n",
    "                label[i] = int(i == label_val)\n",
    "\n",
    "            labels.append(label)\n",
    "        \n",
    "\n",
    "    return labels"
   ]
  },
  {
   "cell_type": "code",
   "execution_count": 4,
   "metadata": {},
   "outputs": [
    {
     "name": "stdout",
     "output_type": "stream",
     "text": [
      "[1. 0. 0. 0. 0. 0. 0. 0. 0. 0.]\n"
     ]
    },
    {
     "data": {
      "image/png": "[encoded data removed]",
      "text/plain": [
       "<Figure size 432x288 with 1 Axes>"
      ]
     },
     "metadata": {},
     "output_type": "display_data"
    }
   ],
   "source": [
    "images = read_images(\"train-images-idx3-ubyte\")\n",
    "labels = read_labels(\"train-labels-idx1-ubyte\")\n",
    "test_images = read_images(\"t10k-images-idx3-ubyte\")\n",
    "test_labels = read_labels(\"t10k-labels-idx1-ubyte\")\n",
    "image = images[1000]\n",
    "plt.imshow(image, cmap=\"Greys\")\n",
    "print(labels[1000])"
   ]
  },
  {
   "cell_type": "code",
   "execution_count": 6,
   "metadata": {},
   "outputs": [
    {
     "name": "stdout",
     "output_type": "stream",
     "text": [
      "[0. 0. 0. 0. 0. 1. 0. 0. 0. 0.]\n",
      "784\n"
     ]
    },
    {
     "data": {
      "image/png": "[encoded data removed]",
      "text/plain": [
       "<Figure size 432x288 with 1 Axes>"
      ]
     },
     "metadata": {},
     "output_type": "display_data"
    }
   ],
   "source": [
    "image_e = images[2000]\n",
    "plt.imshow(image_e, cmap=\"Greys\")\n",
    "print(labels[2000])\n",
    "print(image_e.size)"
   ]
  },
  {
   "cell_type": "code",
   "execution_count": 7,
   "metadata": {},
   "outputs": [],
   "source": [
    "def norm_pixel(pixel):\n",
    "    return ( (pixel - 127) / 255 )"
   ]
  },
  {
   "cell_type": "code",
   "execution_count": 8,
   "metadata": {},
   "outputs": [],
   "source": [
    "def sigmoid(x):\n",
    "    return 1 / (1 + math.exp(-x))"
   ]
  },
  {
   "cell_type": "code",
   "execution_count": 9,
   "metadata": {},
   "outputs": [],
   "source": [
    "class SummationSigmoidLayer:\n",
    "    def __init__(self, m, n, learning_rate):\n",
    "        self.size = (m,n)\n",
    "        self.weights = np.random.rand(m, n) - 0.5\n",
    "        self.learning_rate = learning_rate\n",
    "        self.activation_state = np.zeros((m, 1))\n",
    "        self.linear_state = np.zeros((n, 1))\n",
    "        self.activations = np.zeros((n, 1))\n",
    "        self.derivative = np.zeros( (m, 1) )\n",
    "    \n",
    "    def forward_pass(self, input_activations):\n",
    "        self.activation_state = input_activations\n",
    "        self.linear_state = np.matmul(np.transpose(input_activations), self.weights)\n",
    "        for i in range(0, self.weights.shape[1]):\n",
    "            self.activations[i] = sigmoid(self.linear_state[i])\n",
    "        \n",
    "            \n",
    "    def back_propagate(self, last_derivative):\n",
    "        for i in range(0, self.weights.shape[0]):\n",
    "            self.derivative[i] = 0\n",
    "            for j in range(0, self.weights.shape[1]):\n",
    "                local_deriv = last_derivative[j] * ( sigmoid(self.linear_state[j])  \\\n",
    "                * (1 - sigmoid(self.linear_state[j])) ) * self.activation_state[i]\n",
    "                \n",
    "                self.weights[i, j] = self.weights[i,j] + self.learning_rate * local_deriv\n",
    "                \n",
    "                self.derivative[i] += local_deriv     \n",
    "        "
   ]
  },
  {
   "cell_type": "code",
   "execution_count": 10,
   "metadata": {},
   "outputs": [],
   "source": [
    "class ANNQuadraticCost:\n",
    "    def __init__(self, layers, training_data):\n",
    "        if layers[0].size[0] != training_data['input'][0].size:\n",
    "            raise Exception(\"Invalid input size\")\n",
    "        for i in range(0, len(layers)-1):\n",
    "            if layers[i].size[1] != layers[i+1].size[0]:\n",
    "                raise Exception(\"Invalid inter-layer size\")\n",
    "        if layers[len(layers)-1].size[1] != training_data['output'][0].size:\n",
    "            raise Exception(\"Invalid input size\")\n",
    "            \n",
    "        self.layers = layers\n",
    "        self.training_data = training_data\n",
    "        self.output = np.zeros(training_data['output'][0].shape)\n",
    "    \n",
    "    def dC_dout(self, out, expected):\n",
    "        deriv = np.zeros(out.shape)\n",
    "        for i in range(0, out.shape[0]):\n",
    "            deriv[i] = out[i] - expected[i]\n",
    "        return deriv\n",
    "    \n",
    "    def forward_pass(self, training_example):\n",
    "        activation = training_example\n",
    "        for layer in self.layers:\n",
    "            layer.forward_pass(activation)\n",
    "            activation = layer.activations.flatten()\n",
    "            \n",
    "        self.output = activation\n",
    "        \n",
    "    def back_propagate(self, expected_out):\n",
    "        deriv = self.dC_dout(self.output, expected_out)\n",
    "        for layer in reversed(self.layers):\n",
    "            layer.back_propagate(deriv)\n",
    "            deriv = layer.derivative\n",
    "            \n",
    "    \n",
    "            "
   ]
  },
  {
   "cell_type": "code",
   "execution_count": null,
   "metadata": {
    "scrolled": true
   },
   "outputs": [
    {
     "name": "stdout",
     "output_type": "stream",
     "text": [
      "Running Training Set on 60000 images\n",
      "On training example 0\n",
      "On training example 1000\n",
      "On training example 2000\n",
      "On training example 3000\n",
      "On training example 4000\n",
      "On training example 5000\n",
      "On training example 6000\n",
      "On training example 7000\n",
      "On training example 8000\n",
      "On training example 9000\n",
      "On training example 10000\n",
      "On training example 11000\n",
      "On training example 12000\n",
      "On training example 13000\n",
      "On training example 14000\n",
      "On training example 15000\n",
      "On training example 16000\n",
      "On training example 17000\n",
      "On training example 18000\n",
      "On training example 19000\n",
      "On training example 20000\n",
      "On training example 21000\n",
      "On training example 22000\n",
      "On training example 23000\n",
      "On training example 24000\n",
      "On training example 25000\n",
      "On training example 26000\n",
      "On training example 27000\n",
      "On training example 28000\n",
      "On training example 29000\n",
      "On training example 30000\n",
      "On training example 31000\n",
      "On training example 32000\n",
      "On training example 33000\n",
      "On training example 34000\n",
      "On training example 35000\n"
     ]
    }
   ],
   "source": [
    "nn_l1 = SummationSigmoidLayer(784, 784, 0.1)\n",
    "nn_l2 = SummationSigmoidLayer(784, 400, 0.1)\n",
    "nn_l3 = SummationSigmoidLayer(400, 10, 0.1)\n",
    "\n",
    "training_data = {\"input\": images, \"output\": labels}\n",
    "\n",
    "nn = ANNQuadraticCost([nn_l1, nn_l2, nn_l3], training_data)\n",
    "\n",
    "print(\"Running Training Set on \" + str(len(images)) + \" images\")\n",
    "for i in range(0, len(images)):\n",
    "    if i % 1000 == 0:\n",
    "        print(\"On training example \" + str(i))\n",
    "    image = images[i]\n",
    "    label = labels[i]\n",
    "    adjust_image = np.zeros(image.shape)\n",
    "    for j in range(0, adjust_image.shape[0]):\n",
    "        for k in range(0, adjust_image.shape[1]):\n",
    "            adjust_image[j,k] = norm_pixel(image[j,k])\n",
    "    \n",
    "    nn.forward_pass(adjust_image.flatten())\n",
    "    nn.back_propagate(label)\n",
    "\n",
    "for i in range(0, len(test_images)):\n",
    "    image = test_images[i]\n",
    "    label = test_labels[i]\n",
    "    for j in range(0, adjust_image.shape[0]):\n",
    "        for k in range(0, adjust_image.shape[1]):\n",
    "            adjust_image[j,k] = norm_pixel(image[j,k])\n",
    "    \n",
    "    nn.forward_pass(adjust_image.flatten())\n",
    "    \n",
    "    ans = nn.layers[len(nn.layers)-1].output\n",
    "    if np.max(ans) != np.max(test_labels[i]):\n",
    "        plt.imshow(image, cmap=\"Greys\")\n",
    "        print(label)\n",
    "        break"
   ]
  },
  {
   "cell_type": "code",
   "execution_count": null,
   "metadata": {},
   "outputs": [],
   "source": []
  }
 ],
 "metadata": {
  "kernelspec": {
   "display_name": "Python 3",
   "language": "python",
   "name": "python3"
  },
  "language_info": {
   "codemirror_mode": {
    "name": "ipython",
    "version": 3
   },
   "file_extension": ".py",
   "mimetype": "text/x-python",
   "name": "python",
   "nbconvert_exporter": "python",
   "pygments_lexer": "ipython3",
   "version": "3.6.5"
  }
 },
 "nbformat": 4,
 "nbformat_minor": 2
}
